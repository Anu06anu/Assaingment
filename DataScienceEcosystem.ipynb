{
 "cells": [
  {
   "cell_type": "markdown",
   "id": "a0f8c450",
   "metadata": {},
   "source": [
    "# Data Science Tools and Ecosystem"
   ]
  },
  {
   "cell_type": "markdown",
   "id": "31374670",
   "metadata": {},
   "source": [
    " In this notebook, Data Science Tools and Ecosystem are summarized."
   ]
  },
  {
   "cell_type": "markdown",
   "id": "a61810f4",
   "metadata": {},
   "source": [
    " **Objectives:**\n",
    "    \n",
    "* The list of the popular languages that Data Scientists uses.\n",
    "* The list of commonly used libraries.\n",
    "* The list of Datascience tools."
   ]
  },
  {
   "cell_type": "markdown",
   "id": "ef352307",
   "metadata": {},
   "source": [
    "# Some of the popular languages that Data Scientists use are:\n",
    "\n",
    "   1. Python\n",
    "   2. R\n",
    "   3. SQL\n",
    "   4. Java\n",
    "   5. Julia\n",
    "   6. C/C++"
   ]
  },
  {
   "cell_type": "markdown",
   "id": "e763160f",
   "metadata": {},
   "source": [
    "Some of the commonly used libraries used by Data Scientists include:\n",
    "\n",
    " 1. Numpy\n",
    " 2. Pandas\n",
    " 3. Keras\n",
    " 4. PyTorch\n",
    " 5. TensorFlow"
   ]
  },
  {
   "cell_type": "markdown",
   "id": "3a6449eb",
   "metadata": {},
   "source": [
    "| Data Science Tools |\n",
    "|--------------------|\n",
    "| R Studio           |\n",
    "| Apache Spark       |\n",
    "| Tensor Flow        |"
   ]
  },
  {
   "cell_type": "markdown",
   "id": "b3434387",
   "metadata": {},
   "source": [
    "| Data Science Tools |\n",
    "|--------------------|\n",
    "| R Studio           |\n",
    "| Apache Spark       |\n",
    "| Tensor Flow        |"
   ]
  },
  {
   "cell_type": "markdown",
   "id": "2f5ebdf8",
   "metadata": {},
   "source": [
    "### Below are a few examples of evaluating arithmetic expressions in Python"
   ]
  },
  {
   "cell_type": "code",
   "execution_count": 7,
   "id": "9e22e469",
   "metadata": {},
   "outputs": [
    {
     "data": {
      "text/plain": [
       "17"
      ]
     },
     "execution_count": 7,
     "metadata": {},
     "output_type": "execute_result"
    }
   ],
   "source": [
    "(3*4)+5 #This a simple arithmetic expression to mutiply then add integers."
   ]
  },
  {
   "cell_type": "code",
   "execution_count": 9,
   "id": "fe87e2d0",
   "metadata": {},
   "outputs": [
    {
     "name": "stdout",
     "output_type": "stream",
     "text": [
      "3\n"
     ]
    }
   ],
   "source": [
    "# This will convert 200 minutes to hours by diving by 60\n",
    "minutes = 200\n",
    "hours = minutes // 60\n",
    "print(hours)"
   ]
  },
  {
   "cell_type": "markdown",
   "id": "bf881c8b",
   "metadata": {},
   "source": [
    "## Author\n",
    "\n",
    "Anu"
   ]
  },
  {
   "cell_type": "code",
   "execution_count": null,
   "id": "4d0cdab2",
   "metadata": {},
   "outputs": [],
   "source": []
  }
 ],
 "metadata": {
  "kernelspec": {
   "display_name": "Python 3 (ipykernel)",
   "language": "python",
   "name": "python3"
  },
  "language_info": {
   "codemirror_mode": {
    "name": "ipython",
    "version": 3
   },
   "file_extension": ".py",
   "mimetype": "text/x-python",
   "name": "python",
   "nbconvert_exporter": "python",
   "pygments_lexer": "ipython3",
   "version": "3.9.7"
  }
 },
 "nbformat": 4,
 "nbformat_minor": 5
}
